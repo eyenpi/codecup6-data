{
 "cells": [
  {
   "cell_type": "code",
   "execution_count": 163,
   "metadata": {
    "collapsed": true
   },
   "outputs": [],
   "source": [
    "import pandas as pd\n",
    "import numpy as np\n",
    "from sklearn.linear_model import LogisticRegression, LinearRegression\n",
    "from sklearn.preprocessing import MinMaxScaler\n",
    "from sklearn.model_selection import train_test_split\n",
    "from sklearn.metrics import mean_squared_error, roc_auc_score, accuracy_score"
   ]
  },
  {
   "cell_type": "code",
   "execution_count": 164,
   "outputs": [],
   "source": [
    "train = pd.read_csv(\"../data/travel_insurance/train.csv\")\n",
    "test = pd.read_csv(\"../data/travel_insurance/test.csv\")\n",
    "train = train.drop(\"Customer Id\", axis=1)\n",
    "catCols = [\"Employment Type\", \"GraduateOrNot\", \"ChronicDiseases\", \"FrequentFlyer\", \"EverTravelledAbroad\"]\n",
    "numCols = [\"Age\", \"AnnualIncome\", \"FamilyMembers\"]\n",
    "train = pd.get_dummies(train, columns=catCols)\n",
    "y_train = train['TravelInsurance'].replace({\"No\": 0, \"Yes\": 1})\n",
    "X_train = train.drop(\"TravelInsurance\", axis=1)\n",
    "mmSc = MinMaxScaler()\n",
    "mmSc.fit(X_train[numCols])\n",
    "X_train\n",
    "extra = pd.DataFrame(mmSc.transform(X_train[numCols]), columns=numCols)\n",
    "X_train = X_train.drop(numCols, axis=1).join(extra)\n",
    "X_train, X_valid, y_train, y_valid = train_test_split(X_train, y_train)"
   ],
   "metadata": {
    "collapsed": false,
    "pycharm": {
     "name": "#%%\n"
    }
   }
  },
  {
   "cell_type": "code",
   "execution_count": 165,
   "outputs": [
    {
     "data": {
      "text/plain": "LogisticRegression()"
     },
     "execution_count": 165,
     "metadata": {},
     "output_type": "execute_result"
    }
   ],
   "source": [
    "model = LogisticRegression()\n",
    "model.fit(X_train, y_train)"
   ],
   "metadata": {
    "collapsed": false,
    "pycharm": {
     "name": "#%%\n"
    }
   }
  },
  {
   "cell_type": "code",
   "execution_count": 166,
   "outputs": [
    {
     "name": "stdout",
     "output_type": "stream",
     "text": [
      "0.7958801498127342\n"
     ]
    }
   ],
   "source": [
    "print(roc_auc_score(y_valid, model.predict_proba(X_valid)[:, 1]))"
   ],
   "metadata": {
    "collapsed": false,
    "pycharm": {
     "name": "#%%\n"
    }
   }
  },
  {
   "cell_type": "code",
   "execution_count": 167,
   "outputs": [
    {
     "name": "stdout",
     "output_type": "stream",
     "text": [
      "(397, 2)\n"
     ]
    }
   ],
   "source": [
    "test = pd.read_csv(\"../data/travel_insurance/test.csv\")\n",
    "test = pd.get_dummies(test, columns=catCols)\n",
    "extra = pd.DataFrame(mmSc.transform(test[numCols]), columns=numCols)\n",
    "X_test = test.drop(numCols, axis=1).join(extra).drop('Customer Id', axis=1)\n",
    "prediction = model.predict_proba(X_valid)[:, 1]\n",
    "output = pd.DataFrame(test['Customer Id'], columns=[\"Customer Id\"]).join(pd.DataFrame(prediction, columns=[\"prediction\"]))\n",
    "print(output.shape)\n",
    "# output.to_csv()"
   ],
   "metadata": {
    "collapsed": false,
    "pycharm": {
     "name": "#%%\n"
    }
   }
  }
 ],
 "metadata": {
  "kernelspec": {
   "display_name": "Python 3",
   "language": "python",
   "name": "python3"
  },
  "language_info": {
   "codemirror_mode": {
    "name": "ipython",
    "version": 2
   },
   "file_extension": ".py",
   "mimetype": "text/x-python",
   "name": "python",
   "nbconvert_exporter": "python",
   "pygments_lexer": "ipython2",
   "version": "2.7.6"
  }
 },
 "nbformat": 4,
 "nbformat_minor": 0
}