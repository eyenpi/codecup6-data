{
 "cells": [
  {
   "cell_type": "code",
   "execution_count": 82,
   "metadata": {
    "collapsed": true
   },
   "outputs": [],
   "source": [
    "import pandas as pd\n",
    "from datetime import datetime"
   ]
  },
  {
   "cell_type": "code",
   "execution_count": 10,
   "outputs": [],
   "source": [
    "data = pd.read_csv(\"../data/supermarket/supermarket.csv\")"
   ],
   "metadata": {
    "collapsed": false,
    "pycharm": {
     "name": "#%%\n"
    }
   }
  },
  {
   "cell_type": "code",
   "execution_count": 14,
   "outputs": [
    {
     "data": {
      "text/plain": "137"
     },
     "execution_count": 14,
     "metadata": {},
     "output_type": "execute_result"
    }
   ],
   "source": [
    "Q1 = data['Product'].unique().shape[0]\n",
    "Q1"
   ],
   "metadata": {
    "collapsed": false,
    "pycharm": {
     "name": "#%%\n"
    }
   }
  },
  {
   "cell_type": "code",
   "execution_count": 26,
   "outputs": [
    {
     "data": {
      "text/plain": "44.93"
     },
     "execution_count": 26,
     "metadata": {},
     "output_type": "execute_result"
    }
   ],
   "source": [
    "Q2 = round(data.groupby(\"Date\")['Product'].count().mean(), 2)\n",
    "Q2"
   ],
   "metadata": {
    "collapsed": false,
    "pycharm": {
     "name": "#%%\n"
    }
   }
  },
  {
   "cell_type": "code",
   "execution_count": 76,
   "outputs": [
    {
     "data": {
      "text/plain": "['kitchen utensil', 'preservation products', 'baby cosmetics', 'bags']"
     },
     "execution_count": 76,
     "metadata": {},
     "output_type": "execute_result"
    }
   ],
   "source": [
    "Q3 = data.groupby(\"Product\")['Date'].count().nsmallest(4).index.to_list()\n",
    "Q3"
   ],
   "metadata": {
    "collapsed": false,
    "pycharm": {
     "name": "#%%\n"
    }
   }
  },
  {
   "cell_type": "code",
   "execution_count": 77,
   "outputs": [
    {
     "data": {
      "text/plain": "['0ZRF32AJ06BC',\n 'E7FD9BU4OK0F',\n 'M2DT2Z00NQCH',\n 'M722MPITBY07',\n 'QBUS9NZY39BE']"
     },
     "execution_count": 77,
     "metadata": {},
     "output_type": "execute_result"
    }
   ],
   "source": [
    "Q4 = data[data['Date'] >= \"2020-01-01\"].groupby(['Customer Id', 'Date'])['Product'].apply(list)\n",
    "Q4 = Q4.reset_index().groupby(\"Customer Id\")['Product'].count().nlargest(5).index.to_list()\n",
    "Q4"
   ],
   "metadata": {
    "collapsed": false,
    "pycharm": {
     "name": "#%%\n"
    }
   }
  },
  {
   "cell_type": "code",
   "execution_count": 100,
   "outputs": [
    {
     "data": {
      "text/plain": "'Wednesday'"
     },
     "execution_count": 100,
     "metadata": {},
     "output_type": "execute_result"
    }
   ],
   "source": [
    "days = [\"Monday\", \"Tuesday\", \"Wednesday\", \"Thursday\", \"Friday\", \"Saturday\", \"Sunday\"]\n",
    "data['weekday'] = data['Date'].apply(lambda x: datetime.strptime(x, \"%Y-%m-%d\").weekday())\n",
    "ind = data.groupby(\"weekday\")['Product'].count().nlargest(1).index.to_list()[0]\n",
    "Q5 = days[ind]\n",
    "Q5"
   ],
   "metadata": {
    "collapsed": false,
    "pycharm": {
     "name": "#%%\n"
    }
   }
  },
  {
   "cell_type": "code",
   "execution_count": 170,
   "outputs": [
    {
     "data": {
      "text/plain": "Customer Id   Date      \n0011457U6R3Y  2020-10-13    [rolls/buns, brown bread, dessert]\n008J5Z3CJPYU  2019-01-27              [root vegetables, flour]\n              2019-06-12           [salty snack, bottled beer]\n              2019-10-17                       [domestic eggs]\n              2019-10-28                         [white bread]\n                                           ...                \nZZRT1GFUKTZ7  2019-03-30                  [whole milk, dishes]\n              2019-11-12                [candy, specialty fat]\n              2019-12-28          [UHT-milk, other vegetables]\n              2020-06-13                      [hamburger meat]\n              2020-07-30     [other vegetables, bottled water]\nName: Product, Length: 14753, dtype: object"
     },
     "execution_count": 170,
     "metadata": {},
     "output_type": "execute_result"
    }
   ],
   "source": [
    "def support(x):\n",
    "    return baskets.apply(lambda f: set(x).issubset(f)).sum() / baskets.count()\n",
    "\n",
    "def confidence(x, y):\n",
    "    return support(x+y) / support(x)\n",
    "baskets = data.groupby([\"Customer Id\", \"Date\"])['Product'].apply(list)\n",
    "baskets"
   ],
   "metadata": {
    "collapsed": false,
    "pycharm": {
     "name": "#%%\n"
    }
   }
  },
  {
   "cell_type": "code",
   "execution_count": 201,
   "outputs": [
    {
     "data": {
      "text/plain": "             Product   Support\n1         whole milk  0.160171\n3   other vegetables  0.123839\n4         rolls/buns  0.111571\n31              soda  0.098488\n16            yogurt  0.087101",
      "text/html": "<div>\n<style scoped>\n    .dataframe tbody tr th:only-of-type {\n        vertical-align: middle;\n    }\n\n    .dataframe tbody tr th {\n        vertical-align: top;\n    }\n\n    .dataframe thead th {\n        text-align: right;\n    }\n</style>\n<table border=\"1\" class=\"dataframe\">\n  <thead>\n    <tr style=\"text-align: right;\">\n      <th></th>\n      <th>Product</th>\n      <th>Support</th>\n    </tr>\n  </thead>\n  <tbody>\n    <tr>\n      <th>1</th>\n      <td>whole milk</td>\n      <td>0.160171</td>\n    </tr>\n    <tr>\n      <th>3</th>\n      <td>other vegetables</td>\n      <td>0.123839</td>\n    </tr>\n    <tr>\n      <th>4</th>\n      <td>rolls/buns</td>\n      <td>0.111571</td>\n    </tr>\n    <tr>\n      <th>31</th>\n      <td>soda</td>\n      <td>0.098488</td>\n    </tr>\n    <tr>\n      <th>16</th>\n      <td>yogurt</td>\n      <td>0.087101</td>\n    </tr>\n  </tbody>\n</table>\n</div>"
     },
     "execution_count": 201,
     "metadata": {},
     "output_type": "execute_result"
    }
   ],
   "source": [
    "data2 = pd.DataFrame(data['Product'].unique(), columns=[\"Product\"])\n",
    "data2['Support'] = data2['Product'].apply(lambda x: support([x]))\n",
    "Q6 = data2.nlargest(5, columns=['Support'])\n",
    "Q6"
   ],
   "metadata": {
    "collapsed": false,
    "pycharm": {
     "name": "#%%\n"
    }
   }
  },
  {
   "cell_type": "code",
   "execution_count": 203,
   "outputs": [
    {
     "data": {
      "text/plain": "                      Product   Support\n0              tropical fruit  0.068732\n1                  whole milk  0.160171\n2                   pip fruit  0.049753\n3            other vegetables  0.123839\n4                  rolls/buns  0.111571\n6                citrus fruit  0.053887\n7                        beef  0.034434\n8                     chicken  0.028265\n9                      butter  0.035722\n10      fruit/vegetable juice  0.034501\n12                  chocolate  0.023927\n13              specialty bar  0.014167\n14                butter milk  0.017827\n15              bottled water  0.061547\n16                     yogurt  0.087101\n17                    sausage  0.061208\n18                brown bread  0.038162\n19             hamburger meat  0.022165\n20            root vegetables  0.070562\n21                     pastry  0.052464\n22                    berries  0.022097\n23                     coffee  0.032061\n28                      sugar  0.017962\n29               frozen meals  0.017013\n30                      herbs  0.010710\n31                       soda  0.098488\n33                     grapes  0.014641\n34           processed cheese  0.010303\n36                       curd  0.034163\n40                  beverages  0.016810\n41               bottled beer  0.045957\n42                    dessert  0.023927\n43        specialty chocolate  0.016200\n46                       meat  0.017081\n47                  ice cream  0.015387\n48                hard cheese  0.014912\n50                   UHT-milk  0.021691\n51                      candy  0.014573\n52                     onions  0.020538\n53              domestic eggs  0.037619\n54                  margarine  0.032671\n56                        oil  0.015116\n57         whipped/sour cream  0.044330\n58          frozen vegetables  0.028401\n59              sliced cheese  0.014234\n63                salty snack  0.019047\n65                white bread  0.024334\n75           hygiene articles  0.013895\n79                chewing gum  0.012201\n89                    napkins  0.022436\n90                    waffles  0.018776\n93   long life bakery product  0.018166\n102               soft cheese  0.010167",
      "text/html": "<div>\n<style scoped>\n    .dataframe tbody tr th:only-of-type {\n        vertical-align: middle;\n    }\n\n    .dataframe tbody tr th {\n        vertical-align: top;\n    }\n\n    .dataframe thead th {\n        text-align: right;\n    }\n</style>\n<table border=\"1\" class=\"dataframe\">\n  <thead>\n    <tr style=\"text-align: right;\">\n      <th></th>\n      <th>Product</th>\n      <th>Support</th>\n    </tr>\n  </thead>\n  <tbody>\n    <tr>\n      <th>0</th>\n      <td>tropical fruit</td>\n      <td>0.068732</td>\n    </tr>\n    <tr>\n      <th>1</th>\n      <td>whole milk</td>\n      <td>0.160171</td>\n    </tr>\n    <tr>\n      <th>2</th>\n      <td>pip fruit</td>\n      <td>0.049753</td>\n    </tr>\n    <tr>\n      <th>3</th>\n      <td>other vegetables</td>\n      <td>0.123839</td>\n    </tr>\n    <tr>\n      <th>4</th>\n      <td>rolls/buns</td>\n      <td>0.111571</td>\n    </tr>\n    <tr>\n      <th>6</th>\n      <td>citrus fruit</td>\n      <td>0.053887</td>\n    </tr>\n    <tr>\n      <th>7</th>\n      <td>beef</td>\n      <td>0.034434</td>\n    </tr>\n    <tr>\n      <th>8</th>\n      <td>chicken</td>\n      <td>0.028265</td>\n    </tr>\n    <tr>\n      <th>9</th>\n      <td>butter</td>\n      <td>0.035722</td>\n    </tr>\n    <tr>\n      <th>10</th>\n      <td>fruit/vegetable juice</td>\n      <td>0.034501</td>\n    </tr>\n    <tr>\n      <th>12</th>\n      <td>chocolate</td>\n      <td>0.023927</td>\n    </tr>\n    <tr>\n      <th>13</th>\n      <td>specialty bar</td>\n      <td>0.014167</td>\n    </tr>\n    <tr>\n      <th>14</th>\n      <td>butter milk</td>\n      <td>0.017827</td>\n    </tr>\n    <tr>\n      <th>15</th>\n      <td>bottled water</td>\n      <td>0.061547</td>\n    </tr>\n    <tr>\n      <th>16</th>\n      <td>yogurt</td>\n      <td>0.087101</td>\n    </tr>\n    <tr>\n      <th>17</th>\n      <td>sausage</td>\n      <td>0.061208</td>\n    </tr>\n    <tr>\n      <th>18</th>\n      <td>brown bread</td>\n      <td>0.038162</td>\n    </tr>\n    <tr>\n      <th>19</th>\n      <td>hamburger meat</td>\n      <td>0.022165</td>\n    </tr>\n    <tr>\n      <th>20</th>\n      <td>root vegetables</td>\n      <td>0.070562</td>\n    </tr>\n    <tr>\n      <th>21</th>\n      <td>pastry</td>\n      <td>0.052464</td>\n    </tr>\n    <tr>\n      <th>22</th>\n      <td>berries</td>\n      <td>0.022097</td>\n    </tr>\n    <tr>\n      <th>23</th>\n      <td>coffee</td>\n      <td>0.032061</td>\n    </tr>\n    <tr>\n      <th>28</th>\n      <td>sugar</td>\n      <td>0.017962</td>\n    </tr>\n    <tr>\n      <th>29</th>\n      <td>frozen meals</td>\n      <td>0.017013</td>\n    </tr>\n    <tr>\n      <th>30</th>\n      <td>herbs</td>\n      <td>0.010710</td>\n    </tr>\n    <tr>\n      <th>31</th>\n      <td>soda</td>\n      <td>0.098488</td>\n    </tr>\n    <tr>\n      <th>33</th>\n      <td>grapes</td>\n      <td>0.014641</td>\n    </tr>\n    <tr>\n      <th>34</th>\n      <td>processed cheese</td>\n      <td>0.010303</td>\n    </tr>\n    <tr>\n      <th>36</th>\n      <td>curd</td>\n      <td>0.034163</td>\n    </tr>\n    <tr>\n      <th>40</th>\n      <td>beverages</td>\n      <td>0.016810</td>\n    </tr>\n    <tr>\n      <th>41</th>\n      <td>bottled beer</td>\n      <td>0.045957</td>\n    </tr>\n    <tr>\n      <th>42</th>\n      <td>dessert</td>\n      <td>0.023927</td>\n    </tr>\n    <tr>\n      <th>43</th>\n      <td>specialty chocolate</td>\n      <td>0.016200</td>\n    </tr>\n    <tr>\n      <th>46</th>\n      <td>meat</td>\n      <td>0.017081</td>\n    </tr>\n    <tr>\n      <th>47</th>\n      <td>ice cream</td>\n      <td>0.015387</td>\n    </tr>\n    <tr>\n      <th>48</th>\n      <td>hard cheese</td>\n      <td>0.014912</td>\n    </tr>\n    <tr>\n      <th>50</th>\n      <td>UHT-milk</td>\n      <td>0.021691</td>\n    </tr>\n    <tr>\n      <th>51</th>\n      <td>candy</td>\n      <td>0.014573</td>\n    </tr>\n    <tr>\n      <th>52</th>\n      <td>onions</td>\n      <td>0.020538</td>\n    </tr>\n    <tr>\n      <th>53</th>\n      <td>domestic eggs</td>\n      <td>0.037619</td>\n    </tr>\n    <tr>\n      <th>54</th>\n      <td>margarine</td>\n      <td>0.032671</td>\n    </tr>\n    <tr>\n      <th>56</th>\n      <td>oil</td>\n      <td>0.015116</td>\n    </tr>\n    <tr>\n      <th>57</th>\n      <td>whipped/sour cream</td>\n      <td>0.044330</td>\n    </tr>\n    <tr>\n      <th>58</th>\n      <td>frozen vegetables</td>\n      <td>0.028401</td>\n    </tr>\n    <tr>\n      <th>59</th>\n      <td>sliced cheese</td>\n      <td>0.014234</td>\n    </tr>\n    <tr>\n      <th>63</th>\n      <td>salty snack</td>\n      <td>0.019047</td>\n    </tr>\n    <tr>\n      <th>65</th>\n      <td>white bread</td>\n      <td>0.024334</td>\n    </tr>\n    <tr>\n      <th>75</th>\n      <td>hygiene articles</td>\n      <td>0.013895</td>\n    </tr>\n    <tr>\n      <th>79</th>\n      <td>chewing gum</td>\n      <td>0.012201</td>\n    </tr>\n    <tr>\n      <th>89</th>\n      <td>napkins</td>\n      <td>0.022436</td>\n    </tr>\n    <tr>\n      <th>90</th>\n      <td>waffles</td>\n      <td>0.018776</td>\n    </tr>\n    <tr>\n      <th>93</th>\n      <td>long life bakery product</td>\n      <td>0.018166</td>\n    </tr>\n    <tr>\n      <th>102</th>\n      <td>soft cheese</td>\n      <td>0.010167</td>\n    </tr>\n  </tbody>\n</table>\n</div>"
     },
     "execution_count": 203,
     "metadata": {},
     "output_type": "execute_result"
    }
   ],
   "source": [
    "data2[data2['Support'] >= 0.01]"
   ],
   "metadata": {
    "collapsed": false,
    "pycharm": {
     "name": "#%%\n"
    }
   }
  }
 ],
 "metadata": {
  "kernelspec": {
   "display_name": "Python 3",
   "language": "python",
   "name": "python3"
  },
  "language_info": {
   "codemirror_mode": {
    "name": "ipython",
    "version": 2
   },
   "file_extension": ".py",
   "mimetype": "text/x-python",
   "name": "python",
   "nbconvert_exporter": "python",
   "pygments_lexer": "ipython2",
   "version": "2.7.6"
  }
 },
 "nbformat": 4,
 "nbformat_minor": 0
}