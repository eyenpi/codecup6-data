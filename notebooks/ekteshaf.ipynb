{
 "cells": [
  {
   "cell_type": "code",
   "execution_count": 2,
   "metadata": {
    "collapsed": true
   },
   "outputs": [],
   "source": [
    "import pandas as pd"
   ]
  },
  {
   "cell_type": "code",
   "execution_count": 7,
   "outputs": [
    {
     "data": {
      "text/plain": "       Customer Id  Age               Employment Type GraduateOrNot  \\\n0     3JUN0VW6F043   34  Private Sector/Self Employed           Yes   \n1     VLHY2ABIR4QL   28  Private Sector/Self Employed           Yes   \n2     6E3F7UNXYNFF   28  Private Sector/Self Employed           Yes   \n3     JJ8R0ZRYWR31   32             Government Sector           Yes   \n4     2WGFUEX6IEHM   34  Private Sector/Self Employed           Yes   \n...            ...  ...                           ...           ...   \n1585  W9JDK752JWHA   29  Private Sector/Self Employed           Yes   \n1586  2JEE5P5T9MT0   34  Private Sector/Self Employed           Yes   \n1587  797K83M5QWO2   34  Private Sector/Self Employed            No   \n1588  8V9QYC8TCCMF   33             Government Sector           Yes   \n1589  8VEME4MXPTBC   28  Private Sector/Self Employed           Yes   \n\n      AnnualIncome  FamilyMembers  ChronicDiseases FrequentFlyer  \\\n0          1300000              6                0           Yes   \n1           750000              7                0           Yes   \n2           750000              6                0           Yes   \n3           800000              6                1            No   \n4           700000              4                1            No   \n...            ...            ...              ...           ...   \n1585        600000              3                0            No   \n1586        850000              3                1            No   \n1587       1300000              4                0            No   \n1588        400000              5                0            No   \n1589        750000              5                1           Yes   \n\n     EverTravelledAbroad TravelInsurance  \n0                     No              No  \n1                     No              No  \n2                     No              No  \n3                     No              No  \n4                     No              No  \n...                  ...             ...  \n1585                  No              No  \n1586                 Yes              No  \n1587                  No              No  \n1588                  No              No  \n1589                  No              No  \n\n[1590 rows x 10 columns]",
      "text/html": "<div>\n<style scoped>\n    .dataframe tbody tr th:only-of-type {\n        vertical-align: middle;\n    }\n\n    .dataframe tbody tr th {\n        vertical-align: top;\n    }\n\n    .dataframe thead th {\n        text-align: right;\n    }\n</style>\n<table border=\"1\" class=\"dataframe\">\n  <thead>\n    <tr style=\"text-align: right;\">\n      <th></th>\n      <th>Customer Id</th>\n      <th>Age</th>\n      <th>Employment Type</th>\n      <th>GraduateOrNot</th>\n      <th>AnnualIncome</th>\n      <th>FamilyMembers</th>\n      <th>ChronicDiseases</th>\n      <th>FrequentFlyer</th>\n      <th>EverTravelledAbroad</th>\n      <th>TravelInsurance</th>\n    </tr>\n  </thead>\n  <tbody>\n    <tr>\n      <th>0</th>\n      <td>3JUN0VW6F043</td>\n      <td>34</td>\n      <td>Private Sector/Self Employed</td>\n      <td>Yes</td>\n      <td>1300000</td>\n      <td>6</td>\n      <td>0</td>\n      <td>Yes</td>\n      <td>No</td>\n      <td>No</td>\n    </tr>\n    <tr>\n      <th>1</th>\n      <td>VLHY2ABIR4QL</td>\n      <td>28</td>\n      <td>Private Sector/Self Employed</td>\n      <td>Yes</td>\n      <td>750000</td>\n      <td>7</td>\n      <td>0</td>\n      <td>Yes</td>\n      <td>No</td>\n      <td>No</td>\n    </tr>\n    <tr>\n      <th>2</th>\n      <td>6E3F7UNXYNFF</td>\n      <td>28</td>\n      <td>Private Sector/Self Employed</td>\n      <td>Yes</td>\n      <td>750000</td>\n      <td>6</td>\n      <td>0</td>\n      <td>Yes</td>\n      <td>No</td>\n      <td>No</td>\n    </tr>\n    <tr>\n      <th>3</th>\n      <td>JJ8R0ZRYWR31</td>\n      <td>32</td>\n      <td>Government Sector</td>\n      <td>Yes</td>\n      <td>800000</td>\n      <td>6</td>\n      <td>1</td>\n      <td>No</td>\n      <td>No</td>\n      <td>No</td>\n    </tr>\n    <tr>\n      <th>4</th>\n      <td>2WGFUEX6IEHM</td>\n      <td>34</td>\n      <td>Private Sector/Self Employed</td>\n      <td>Yes</td>\n      <td>700000</td>\n      <td>4</td>\n      <td>1</td>\n      <td>No</td>\n      <td>No</td>\n      <td>No</td>\n    </tr>\n    <tr>\n      <th>...</th>\n      <td>...</td>\n      <td>...</td>\n      <td>...</td>\n      <td>...</td>\n      <td>...</td>\n      <td>...</td>\n      <td>...</td>\n      <td>...</td>\n      <td>...</td>\n      <td>...</td>\n    </tr>\n    <tr>\n      <th>1585</th>\n      <td>W9JDK752JWHA</td>\n      <td>29</td>\n      <td>Private Sector/Self Employed</td>\n      <td>Yes</td>\n      <td>600000</td>\n      <td>3</td>\n      <td>0</td>\n      <td>No</td>\n      <td>No</td>\n      <td>No</td>\n    </tr>\n    <tr>\n      <th>1586</th>\n      <td>2JEE5P5T9MT0</td>\n      <td>34</td>\n      <td>Private Sector/Self Employed</td>\n      <td>Yes</td>\n      <td>850000</td>\n      <td>3</td>\n      <td>1</td>\n      <td>No</td>\n      <td>Yes</td>\n      <td>No</td>\n    </tr>\n    <tr>\n      <th>1587</th>\n      <td>797K83M5QWO2</td>\n      <td>34</td>\n      <td>Private Sector/Self Employed</td>\n      <td>No</td>\n      <td>1300000</td>\n      <td>4</td>\n      <td>0</td>\n      <td>No</td>\n      <td>No</td>\n      <td>No</td>\n    </tr>\n    <tr>\n      <th>1588</th>\n      <td>8V9QYC8TCCMF</td>\n      <td>33</td>\n      <td>Government Sector</td>\n      <td>Yes</td>\n      <td>400000</td>\n      <td>5</td>\n      <td>0</td>\n      <td>No</td>\n      <td>No</td>\n      <td>No</td>\n    </tr>\n    <tr>\n      <th>1589</th>\n      <td>8VEME4MXPTBC</td>\n      <td>28</td>\n      <td>Private Sector/Self Employed</td>\n      <td>Yes</td>\n      <td>750000</td>\n      <td>5</td>\n      <td>1</td>\n      <td>Yes</td>\n      <td>No</td>\n      <td>No</td>\n    </tr>\n  </tbody>\n</table>\n<p>1590 rows × 10 columns</p>\n</div>"
     },
     "execution_count": 7,
     "metadata": {},
     "output_type": "execute_result"
    }
   ],
   "source": [
    "train = pd.read_csv(\"../data/travel_insurance/train.csv\")\n",
    "train"
   ],
   "metadata": {
    "collapsed": false,
    "pycharm": {
     "name": "#%%\n"
    }
   }
  },
  {
   "cell_type": "code",
   "execution_count": 13,
   "outputs": [
    {
     "data": {
      "text/plain": "'1590 10'"
     },
     "execution_count": 13,
     "metadata": {},
     "output_type": "execute_result"
    }
   ],
   "source": [
    "Q1 = f\"{train.shape[0]} {train.shape[1]}\"\n",
    "Q1"
   ],
   "metadata": {
    "collapsed": false,
    "pycharm": {
     "name": "#%%\n"
    }
   }
  },
  {
   "cell_type": "code",
   "execution_count": 16,
   "outputs": [
    {
     "data": {
      "text/plain": "928553"
     },
     "execution_count": 16,
     "metadata": {},
     "output_type": "execute_result"
    }
   ],
   "source": [
    "Q2 = int(train['AnnualIncome'].mean())\n",
    "Q2"
   ],
   "metadata": {
    "collapsed": false,
    "pycharm": {
     "name": "#%%\n"
    }
   }
  },
  {
   "cell_type": "code",
   "execution_count": 21,
   "outputs": [
    {
     "data": {
      "text/plain": "302"
     },
     "execution_count": 21,
     "metadata": {},
     "output_type": "execute_result"
    }
   ],
   "source": [
    "Q3 = train[train['EverTravelledAbroad'] == \"Yes\"].shape[0]\n",
    "Q3"
   ],
   "metadata": {
    "collapsed": false,
    "pycharm": {
     "name": "#%%\n"
    }
   }
  },
  {
   "cell_type": "code",
   "execution_count": 27,
   "outputs": [
    {
     "data": {
      "text/plain": "'Private Sector/Self Employed 72.64'"
     },
     "execution_count": 27,
     "metadata": {},
     "output_type": "execute_result"
    }
   ],
   "source": [
    "J1 = (train[train['Employment Type'] == \"Government Sector\"].shape[0] / train.shape[0]) * 100\n",
    "J2 = (train[train['Employment Type'] == \"Private Sector/Self Employed\"].shape[0] / train.shape[0]) * 100\n",
    "Q4 = f\"Government Sector {J1:.2f}\" if J1 > J2 else f\"Private Sector/Self Employed {J2:.2f}\"\n",
    "Q4"
   ],
   "metadata": {
    "collapsed": false,
    "pycharm": {
     "name": "#%%\n"
    }
   }
  },
  {
   "cell_type": "code",
   "execution_count": 44,
   "outputs": [
    {
     "data": {
      "text/plain": "'37.53'"
     },
     "execution_count": 44,
     "metadata": {},
     "output_type": "execute_result"
    }
   ],
   "source": [
    "Q5 = train[(train['ChronicDiseases'] == 1) & (train['TravelInsurance'] == 'Yes')].shape[0] * 100 / train[train['ChronicDiseases'] == 1].shape[0]\n",
    "Q5 = f\"{Q5:.2f}\"\n",
    "Q5"
   ],
   "metadata": {
    "collapsed": false,
    "pycharm": {
     "name": "#%%\n"
    }
   }
  },
  {
   "cell_type": "code",
   "execution_count": 50,
   "outputs": [
    {
     "name": "stdout",
     "output_type": "stream",
     "text": [
      "1590 10\n",
      "928553\n",
      "302\n",
      "Private Sector/Self Employed 72.64\n",
      "37.53\n"
     ]
    }
   ],
   "source": [
    "print(f\"{Q1}\\n{Q2}\\n{Q3}\\n{Q4}\\n{Q5}\")"
   ],
   "metadata": {
    "collapsed": false,
    "pycharm": {
     "name": "#%%\n"
    }
   }
  }
 ],
 "metadata": {
  "kernelspec": {
   "display_name": "Python 3",
   "language": "python",
   "name": "python3"
  },
  "language_info": {
   "codemirror_mode": {
    "name": "ipython",
    "version": 2
   },
   "file_extension": ".py",
   "mimetype": "text/x-python",
   "name": "python",
   "nbconvert_exporter": "python",
   "pygments_lexer": "ipython2",
   "version": "2.7.6"
  }
 },
 "nbformat": 4,
 "nbformat_minor": 0
}